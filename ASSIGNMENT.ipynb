{
  "nbformat": 4,
  "nbformat_minor": 0,
  "metadata": {
    "colab": {
      "provenance": [],
      "collapsed_sections": [],
      "authorship_tag": "ABX9TyP0ncaTg2EPgELoS/DlJ3Te",
      "include_colab_link": true
    },
    "kernelspec": {
      "name": "python3",
      "display_name": "Python 3"
    },
    "language_info": {
      "name": "python"
    }
  },
  "cells": [
    {
      "cell_type": "markdown",
      "metadata": {
        "id": "view-in-github",
        "colab_type": "text"
      },
      "source": [
        "<a href=\"https://colab.research.google.com/github/Maarioon/Learning-Python/blob/main/ASSIGNMENT.ipynb\" target=\"_parent\"><img src=\"https://colab.research.google.com/assets/colab-badge.svg\" alt=\"Open In Colab\"/></a>"
      ]
    },
    {
      "cell_type": "code",
      "execution_count": 42,
      "metadata": {
        "id": "wy6AmIxI46WJ",
        "colab": {
          "base_uri": "https://localhost:8080/"
        },
        "outputId": "dcdbbc8c-923e-460b-dfc6-6edc58d29edd"
      },
      "outputs": [
        {
          "output_type": "stream",
          "name": "stdout",
          "text": [
            "Enter your name to start the exam: \n",
            "Pick any 3 questions Below\n",
            "\"Where does the sun rise? \n",
            "A = East\n",
            "B = North\n",
            "C = South\n",
            "D = west\n",
            "\n",
            "answer = dck\n",
            "\"Where does the sun rise? \n",
            "A = East\n",
            "B = North\n",
            "C = South\n",
            "D = west\n",
            "\n",
            "answer = dc\n",
            "\"Is Nigeria a good country to live in? \n",
            "a = True\n",
            "b = False\n",
            "\n",
            "answer = d\n",
            "What is the meaning of being synchronization? \n",
            "answer = dc\n",
            "\"Why do people acknowledge esistence? \n",
            "A = God\n",
            "B = North star\n",
            "C = Nothingness\n",
            "D = westros\n",
            "\n",
            "answer = fv\n",
            "\"\"Here are the solutions to the Exam questions\n",
            "q1 = A\n",
            "q2 = A\n",
            "q3 = B\n",
            "q4 = Everything being together\n",
            "q5 = A \n",
            "\n"
          ]
        }
      ],
      "source": [
        "from typing import AbstractSet\n",
        "from traitlets.traitlets import Any\n",
        "\n",
        "\n",
        "#write a program that will be like an online testing program, it will have option A to C,\n",
        "#AT LEAST THREE QUESTIONS, AND THE RESULT WILL BE SHOWN AFTER THEUSER ANSWERS THE LAST QUESTION\n",
        "\n",
        "name = input('Enter your name to start the exam: ')\n",
        "\n",
        "question = 'Pick any 3 questions Below' \n",
        "print(question)\n",
        "\n",
        "q1 = \"\"\"\"Where does the sun rise? \n",
        "A = East\n",
        "B = North\n",
        "C = South\n",
        "D = west\n",
        "\"\"\"\n",
        "\n",
        "print(q1 ) \n",
        "answer = input('answer = ')\n",
        "\n",
        "\n",
        "q2 = \"\"\"\"Where is Antartica? \n",
        "A = continent\n",
        "B = america\n",
        "C = South califonia\n",
        "D = west coast\n",
        "\"\"\"\n",
        "\n",
        "print(q1 ) \n",
        "answer = input('answer = ')\n",
        "\n",
        "\n",
        "q3 = \"\"\"\"Is Nigeria a good country to live in? \n",
        "a = True\n",
        "b = False\n",
        "\"\"\"\n",
        "a = True\n",
        "b = False\n",
        "\n",
        "print(q3 ) \n",
        "answer = input('answer = ')\n",
        "\n",
        "\n",
        "q4 = \"What is the meaning of being synchronization? \"\n",
        "\n",
        "print(q4 ) \n",
        "answer = input('answer = ')\n",
        "\n",
        "\n",
        "q5 = \"\"\"\"Why do people acknowledge esistence? \n",
        "A = God\n",
        "B = North star\n",
        "C = Nothingness\n",
        "D = westros\n",
        "\"\"\"\n",
        "\n",
        "print(q5) \n",
        "answer = input('answer = ')\n",
        "\n",
        "\n",
        "\n",
        "Solution = \"\"\"\"\"Here are the solutions to the Exam questions\n",
        "q1 = A\n",
        "q2 = A\n",
        "q3 = B\n",
        "q4 = Everything being together\n",
        "q5 = A \n",
        "\"\"\"\"\"\n",
        "print(Solution)\n",
        "\n"
      ]
    }
  ]
}